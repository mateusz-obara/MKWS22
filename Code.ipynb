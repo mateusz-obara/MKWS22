{
  "cells": [
    {
      "cell_type": "code",
      "execution_count": null,
      "metadata": {
        "id": "0i1rIQEf1M9A"
      },
      "outputs": [],
      "source": [
        "%pip install cantera"
      ]
    },
    {
      "cell_type": "code",
      "execution_count": null,
      "metadata": {
        "id": "en0CjE8APD0F"
      },
      "outputs": [],
      "source": [
        "%pip install matplotlib"
      ]
    },
    {
      "cell_type": "code",
      "source": [
        "import cantera as ct\n",
        "import numpy as np\n",
        "import matplotlib.pyplot as plt\n",
        "\n",
        "gas=ct.Solution('gri30.yaml')\n",
        "\n",
        "data_nratio=[]\n",
        "data_pmin=[]\n",
        "data_pmax=[]"
      ],
      "metadata": {
        "id": "n53pGCHAIqAb"
      },
      "execution_count": 287,
      "outputs": []
    },
    {
      "cell_type": "code",
      "source": [
        "def explosion_deltaP(A,B,C):\n",
        "  gas.TPX=1000,ct.one_atm,{'H2':A,'O2':B,'N2':C}\n",
        "\n",
        "  r=ct.Reactor(gas)\n",
        "  sim=ct.ReactorNet([r])\n",
        "\n",
        "  dt=1e-5\n",
        "  time=0.0\n",
        "  end_time=0.002\n",
        "  pressure_max=gas.P\n",
        "  time_pmax=0.0\n",
        "  k=0\n",
        "  while time<end_time:\n",
        "      sim.advance(time)\n",
        "      time+=dt\n",
        "      if pressure_max<gas.P:\n",
        "        pressure_max=gas.P\n",
        "        time_pmax=time\n",
        "        k=time+(0.2*end_time)\n",
        "      if time_pmax>k:\n",
        "        time=k #break\n",
        "  deltaP=pressure_max/ct.one_atm\n",
        "  return deltaP"
      ],
      "metadata": {
        "id": "9NhQdKjAHz11"
      },
      "execution_count": 288,
      "outputs": []
    },
    {
      "cell_type": "code",
      "source": [
        "def limits(Nratio):\n",
        "  phi_bottom=1\n",
        "  phi_top=3.5\n",
        "\n",
        "  phi=phi_bottom\n",
        "  phi_min=0.0\n",
        "  phi_max=0.0\n",
        "  dphi=0.05\n",
        "  k=0.0\n",
        "  while phi<phi_top:\n",
        "    A=1.0\n",
        "    B=1.0*(2/phi)\n",
        "    C=B*Nratio\n",
        "\n",
        "    if explosion_deltaP(A,B,C)>1.05:\n",
        "      if phi_min==0.0:\n",
        "        phi_min=explosion_deltaP(A,B,C)\n",
        "      else:\n",
        "        phi_max=explosion_deltaP(A,B,C)\n",
        "    phi=phi+dphi\n",
        "  data_nratio.append(Nratio)\n",
        "  data_pmin.append(phi_min)\n",
        "  data_pmax.append(phi_max)"
      ],
      "metadata": {
        "id": "emKiaAtOH6Fy"
      },
      "execution_count": 289,
      "outputs": []
    },
    {
      "cell_type": "code",
      "source": [
        "Nratio=1\n",
        "Nratio_max=10\n",
        "\n",
        "while Nratio<(Nratio_max+0.5):\n",
        "  limits(Nratio)\n",
        "  Nratio+=0.5\n",
        "\n",
        "plt.plot(data_nratio,data_pmin)\n",
        "plt.plot(data_nratio,data_pmax)\n",
        "plt.xlabel('Molar ratio of nitrogen to oxygen')\n",
        "plt.ylabel('Equivalence ratio')\n",
        "plt.title('Explosive limits')\n",
        "plt.show()"
      ],
      "metadata": {
        "id": "bPBQvT3VOWO_",
        "colab": {
          "base_uri": "https://localhost:8080/",
          "height": 295
        },
        "outputId": "8d0bc3cf-1534-404e-e6d0-64bf54060555"
      },
      "execution_count": 290,
      "outputs": [
        {
          "output_type": "display_data",
          "data": {
            "text/plain": [
              "<Figure size 432x288 with 1 Axes>"
            ],
            "image/png": "[encoded data removed]"
          },
          "metadata": {
            "needs_background": "light"
          }
        }
      ]
    }
  ],
  "metadata": {
    "colab": {
      "name": "MKWS",
      "provenance": [],
      "collapsed_sections": []
    },
    "kernelspec": {
      "display_name": "Python 3",
      "name": "python3"
    },
    "language_info": {
      "name": "python"
    }
  },
  "nbformat": 4,
  "nbformat_minor": 0
}